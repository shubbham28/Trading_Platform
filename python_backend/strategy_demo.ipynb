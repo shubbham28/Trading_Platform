{
 "cells": [
  {
   "cell_type": "markdown",
   "metadata": {},
   "source": [
    "# Intraday Trading Strategies Demo\n",
    "\n",
    "This notebook demonstrates the usage of the new intraday trading strategies:\n",
    "- Morning Momentum\n",
    "- Opening Range Breakout\n",
    "- VWAP Mean Reversion\n",
    "- Mean Reversion Intraday\n",
    "- Sector Momentum\n",
    "\n",
    "And shows how to:\n",
    "1. Run strategies on historical data\n",
    "2. Backtest strategies\n",
    "3. Visualize results\n",
    "4. Use the news-based forward tester"
   ]
  },
  {
   "cell_type": "code",
   "execution_count": null,
   "metadata": {},
   "outputs": [],
   "source": [
    "import sys\n",
    "sys.path.append('..')\n",
    "\n",
    "import pandas as pd\n",
    "import numpy as np\n",
    "import matplotlib.pyplot as plt\n",
    "from datetime import datetime, timedelta\n",
    "\n",
    "from strategies import get_strategy, list_strategies\n",
    "from app.backtest import BacktestEngine, BacktestConfig\n",
    "from app.data_fetcher import DataFetcher\n",
    "from news_forward_tester import NewsForwardTester\n",
    "\n",
    "%matplotlib inline"
   ]
  },
  {
   "cell_type": "markdown",
   "metadata": {},
   "source": [
    "## 1. List Available Strategies"
   ]
  },
  {
   "cell_type": "code",
   "execution_count": null,
   "metadata": {},
   "outputs": [],
   "source": [
    "strategies = list_strategies()\n",
    "print(f\"Total strategies available: {len(strategies)}\\n\")\n",
    "\n",
    "for strategy in strategies:\n",
    "    print(f\"ID: {strategy['id']}\")\n",
    "    print(f\"Name: {strategy['name']}\")\n",
    "    print(f\"Description: {strategy['description']}\")\n",
    "    print(f\"Parameters: {strategy['parameters']}\")\n",
    "    print(\"-\" * 50)"
   ]
  },
  {
   "cell_type": "markdown",
   "metadata": {},
   "source": [
    "## 2. Fetch Intraday Data"
   ]
  },
  {
   "cell_type": "code",
   "execution_count": null,
   "metadata": {},
   "outputs": [],
   "source": [
    "# Initialize data fetcher\n",
    "data_fetcher = DataFetcher()\n",
    "\n",
    "# Fetch 1-minute bars for a stock (e.g., AAPL)\n",
    "symbol = 'AAPL'\n",
    "end_date = datetime.now().strftime('%Y-%m-%d')\n",
    "start_date = (datetime.now() - timedelta(days=5)).strftime('%Y-%m-%d')\n",
    "\n",
    "print(f\"Fetching {symbol} data from {start_date} to {end_date}\")\n",
    "\n",
    "try:\n",
    "    df = data_fetcher.get_bars(symbol, start_date, end_date, '5Min')\n",
    "    print(f\"Fetched {len(df)} bars\")\n",
    "    print(df.head())\n",
    "except Exception as e:\n",
    "    print(f\"Error fetching data: {e}\")\n",
    "    # Create sample data for demo\n",
    "    print(\"Creating sample data for demonstration...\")\n",
    "    dates = pd.date_range(start=start_date, end=end_date, freq='5Min')\n",
    "    df = pd.DataFrame({\n",
    "        'timestamp': dates,\n",
    "        'open': 150 + np.random.randn(len(dates)).cumsum() * 0.5,\n",
    "        'high': 151 + np.random.randn(len(dates)).cumsum() * 0.5,\n",
    "        'low': 149 + np.random.randn(len(dates)).cumsum() * 0.5,\n",
    "        'close': 150 + np.random.randn(len(dates)).cumsum() * 0.5,\n",
    "        'volume': np.random.randint(1000, 10000, len(dates))\n",
    "    })\n",
    "    df['close'] = df[['open', 'high', 'low', 'close']].mean(axis=1)\n",
    "    print(df.head())"
   ]
  },
  {
   "cell_type": "markdown",
   "metadata": {},
   "source": [
    "## 3. Test Morning Momentum Strategy"
   ]
  },
  {
   "cell_type": "code",
   "execution_count": null,
   "metadata": {},
   "outputs": [],
   "source": [
    "# Get strategy instance\n",
    "strategy = get_strategy('morning_momentum', {\n",
    "    'gap_threshold': 2.0,\n",
    "    'rsi_period': 5,\n",
    "    'rsi_max': 70,\n",
    "    'volume_ratio_min': 2.0\n",
    "})\n",
    "\n",
    "print(f\"Testing strategy: {strategy.name}\")\n",
    "print(f\"Description: {strategy.description}\")\n",
    "\n",
    "# Generate signals\n",
    "signals = []\n",
    "for i in range(len(df)):\n",
    "    signal = strategy.analyze(df, i)\n",
    "    if signal.action != 'hold':\n",
    "        signals.append(signal)\n",
    "        print(f\"Signal at {signal.timestamp}: {signal.action} - {signal.reason}\")\n",
    "\n",
    "print(f\"\\nTotal actionable signals: {len(signals)}\")"
   ]
  },
  {
   "cell_type": "markdown",
   "metadata": {},
   "source": [
    "## 4. Backtest Morning Momentum Strategy"
   ]
  },
  {
   "cell_type": "code",
   "execution_count": null,
   "metadata": {},
   "outputs": [],
   "source": [
    "# Create backtest configuration\n",
    "config = BacktestConfig(\n",
    "    symbol=symbol,\n",
    "    start_date=start_date,\n",
    "    end_date=end_date,\n",
    "    initial_capital=10000.0,\n",
    "    commission=0.001,  # 0.1% commission\n",
    "    strategy_id='morning_momentum',\n",
    "    parameters={}\n",
    ")\n",
    "\n",
    "# Get fresh strategy instance\n",
    "strategy = get_strategy('morning_momentum')\n",
    "\n",
    "# Run backtest\n",
    "engine = BacktestEngine(config, strategy)\n",
    "result = engine.run(df)\n",
    "\n",
    "# Display results\n",
    "print(\"\\n=== Backtest Results ===\")\n",
    "print(f\"Strategy: {result.strategy_id}\")\n",
    "print(f\"Symbol: {result.symbol}\")\n",
    "print(f\"Period: {result.start_date} to {result.end_date}\")\n",
    "print(f\"Initial Capital: ${result.initial_capital:,.2f}\")\n",
    "print(f\"Final Capital: ${result.final_capital:,.2f}\")\n",
    "print(f\"Total Return: ${result.total_return:,.2f} ({result.total_return_pct:.2f}%)\")\n",
    "print(f\"Max Drawdown: {result.max_drawdown_pct:.2f}%\")\n",
    "print(f\"Sharpe Ratio: {result.sharpe_ratio:.2f}\")\n",
    "print(f\"Sortino Ratio: {result.sortino_ratio:.2f}\")\n",
    "print(f\"Total Trades: {result.total_trades}\")\n",
    "print(f\"Winning Trades: {result.winning_trades} ({result.win_rate:.1f}%)\")\n",
    "print(f\"Avg Win: ${result.avg_win:.2f}\")\n",
    "print(f\"Avg Loss: ${result.avg_loss:.2f}\")\n",
    "print(f\"Profit Factor: {result.profit_factor:.2f}\")"
   ]
  },
  {
   "cell_type": "markdown",
   "metadata": {},
   "source": [
    "## 5. Visualize Equity Curve"
   ]
  },
  {
   "cell_type": "code",
   "execution_count": null,
   "metadata": {},
   "outputs": [],
   "source": [
    "# Extract equity curve data\n",
    "equity_df = pd.DataFrame(result.equity_curve)\n",
    "\n",
    "if not equity_df.empty:\n",
    "    fig, (ax1, ax2) = plt.subplots(2, 1, figsize=(14, 10))\n",
    "    \n",
    "    # Plot equity curve\n",
    "    ax1.plot(equity_df.index, equity_df['equity'], label='Equity', linewidth=2)\n",
    "    ax1.axhline(y=config.initial_capital, color='gray', linestyle='--', label='Initial Capital')\n",
    "    ax1.set_title(f'{result.strategy_id} - Equity Curve')\n",
    "    ax1.set_xlabel('Bar Index')\n",
    "    ax1.set_ylabel('Equity ($)')\n",
    "    ax1.legend()\n",
    "    ax1.grid(True, alpha=0.3)\n",
    "    \n",
    "    # Plot drawdown\n",
    "    ax2.fill_between(equity_df.index, 0, -equity_df['drawdown'] * 100, \n",
    "                      alpha=0.3, color='red', label='Drawdown')\n",
    "    ax2.set_title('Drawdown')\n",
    "    ax2.set_xlabel('Bar Index')\n",
    "    ax2.set_ylabel('Drawdown (%)')\n",
    "    ax2.legend()\n",
    "    ax2.grid(True, alpha=0.3)\n",
    "    \n",
    "    plt.tight_layout()\n",
    "    plt.show()\n",
    "else:\n",
    "    print(\"No equity curve data to plot\")"
   ]
  },
  {
   "cell_type": "markdown",
   "metadata": {},
   "source": [
    "## 6. Compare Multiple Strategies"
   ]
  },
  {
   "cell_type": "code",
   "execution_count": null,
   "metadata": {},
   "outputs": [],
   "source": [
    "# List of intraday strategies to compare\n",
    "strategy_ids = [\n",
    "    'morning_momentum',\n",
    "    'opening_range_breakout',\n",
    "    'vwap_reversion',\n",
    "    'mean_reversion_intraday',\n",
    "    'sector_momentum'\n",
    "]\n",
    "\n",
    "results_comparison = []\n",
    "\n",
    "for strategy_id in strategy_ids:\n",
    "    try:\n",
    "        strategy = get_strategy(strategy_id)\n",
    "        config = BacktestConfig(\n",
    "            symbol=symbol,\n",
    "            start_date=start_date,\n",
    "            end_date=end_date,\n",
    "            initial_capital=10000.0,\n",
    "            commission=0.001,\n",
    "            strategy_id=strategy_id,\n",
    "            parameters={}\n",
    "        )\n",
    "        \n",
    "        engine = BacktestEngine(config, strategy)\n",
    "        result = engine.run(df)\n",
    "        \n",
    "        results_comparison.append({\n",
    "            'Strategy': strategy_id,\n",
    "            'Return %': result.total_return_pct,\n",
    "            'Sharpe': result.sharpe_ratio,\n",
    "            'Max DD %': result.max_drawdown_pct,\n",
    "            'Trades': result.total_trades,\n",
    "            'Win Rate %': result.win_rate\n",
    "        })\n",
    "    except Exception as e:\n",
    "        print(f\"Error testing {strategy_id}: {e}\")\n",
    "\n",
    "# Display comparison\n",
    "comparison_df = pd.DataFrame(results_comparison)\n",
    "print(\"\\n=== Strategy Comparison ===\")\n",
    "print(comparison_df.to_string(index=False))"
   ]
  },
  {
   "cell_type": "markdown",
   "metadata": {},
   "source": [
    "## 7. News-Based Forward Testing"
   ]
  },
  {
   "cell_type": "code",
   "execution_count": null,
   "metadata": {},
   "outputs": [],
   "source": [
    "# Initialize news forward tester\n",
    "news_tester = NewsForwardTester()\n",
    "\n",
    "# Sample news data\n",
    "news_data = [\n",
    "    {\n",
    "        'symbol': 'AAPL',\n",
    "        'headline': 'Apple announces strong quarterly earnings, beats expectations',\n",
    "        'timestamp': datetime.now().isoformat()\n",
    "    },\n",
    "    {\n",
    "        'symbol': 'AAPL',\n",
    "        'headline': 'iPhone sales surge in Q4, driving record revenue',\n",
    "        'timestamp': datetime.now().isoformat()\n",
    "    },\n",
    "    {\n",
    "        'symbol': 'TSLA',\n",
    "        'headline': 'Tesla stock drops on production concerns',\n",
    "        'timestamp': datetime.now().isoformat()\n",
    "    },\n",
    "    {\n",
    "        'symbol': 'GOOGL',\n",
    "        'headline': 'Google unveils new AI features, stock rallies',\n",
    "        'timestamp': datetime.now().isoformat()\n",
    "    }\n",
    "]\n",
    "\n",
    "# Generate signals\n",
    "signals = news_tester.generate_signals(news_data, top_n=3)\n",
    "\n",
    "print(\"\\n=== News-Based Signals ===\")\n",
    "for signal in signals:\n",
    "    print(f\"\\nSymbol: {signal.symbol}\")\n",
    "    print(f\"Action: {signal.action}\")\n",
    "    print(f\"Sentiment: {signal.sentiment_label} (score: {signal.sentiment_score:.2f})\")\n",
    "    print(f\"Confidence: {signal.confidence:.2f}\")\n",
    "    print(f\"News Count: {signal.news_count}\")\n",
    "    print(f\"Reason: {signal.reason}\")"
   ]
  },
  {
   "cell_type": "markdown",
   "metadata": {},
   "source": [
    "## 8. API Integration Example"
   ]
  },
  {
   "cell_type": "code",
   "execution_count": null,
   "metadata": {},
   "outputs": [],
   "source": [
    "import requests\n",
    "\n",
    "# Assuming the backend is running on localhost:8000\n",
    "BASE_URL = 'http://localhost:8000'\n",
    "\n",
    "# Example: List all strategies via API\n",
    "response = requests.get(f'{BASE_URL}/strategy/list')\n",
    "if response.status_code == 200:\n",
    "    print(\"Available strategies via API:\")\n",
    "    strategies = response.json()['strategies']\n",
    "    for s in strategies:\n",
    "        print(f\"  - {s['id']}: {s['name']}\")\n",
    "else:\n",
    "    print(f\"Error: {response.status_code}\")\n",
    "    print(\"Make sure the backend is running with: python main.py\")"
   ]
  },
  {
   "cell_type": "markdown",
   "metadata": {},
   "source": [
    "## Conclusion\n",
    "\n",
    "This notebook demonstrated:\n",
    "1. ✅ Five new intraday trading strategies\n",
    "2. ✅ Backtesting framework with performance metrics\n",
    "3. ✅ Strategy comparison\n",
    "4. ✅ News-based sentiment analysis and forward testing\n",
    "5. ✅ API integration examples\n",
    "\n",
    "### Next Steps\n",
    "- Fine-tune strategy parameters for your trading style\n",
    "- Add real-time news feeds for forward testing\n",
    "- Deploy strategies in paper trading mode\n",
    "- Monitor performance and iterate"
   ]
  }
 ],
 "metadata": {
  "kernelspec": {
   "display_name": "Python 3",
   "language": "python",
   "name": "python3"
  },
  "language_info": {
   "codemirror_mode": {
    "name": "ipython",
    "version": 3
   },
   "file_extension": ".py",
   "mimetype": "text/x-python",
   "name": "python",
   "nbconvert_exporter": "python",
   "pygments_lexer": "ipython3",
   "version": "3.8.0"
  }
 },
 "nbformat": 4,
 "nbformat_minor": 4
}
